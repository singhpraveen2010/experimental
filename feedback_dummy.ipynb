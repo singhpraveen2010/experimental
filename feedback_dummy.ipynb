{
 "cells": [
  {
   "cell_type": "code",
   "execution_count": 63,
   "metadata": {},
   "outputs": [],
   "source": [
    "from sqlalchemy import create_engine\n",
    "import boto3\n",
    "import botocore\n",
    "import json\n",
    "import os\n",
    "from test_config import *\n",
    "import sys\n",
    "import flask\n",
    "from flask import Flask, request\n",
    "from flask_cors import CORS"
   ]
  },
  {
   "cell_type": "code",
   "execution_count": 72,
   "metadata": {},
   "outputs": [],
   "source": [
    "DB_URL = 'postgresql+psycopg2://{user}:{pw}@{url}/{db}'.format(\n",
    "    user=POSTGRES_USER, pw=POSTGRES_PW, url=POSTGRES_URL, db=POSTGRES_DB)\n",
    "db = create_engine(DB_URL)\n",
    "\n",
    "if sys.version_info.major == 2:\n",
    "    reload(sys)\n",
    "    sys.setdefaultencoding('UTF8')\n",
    "app = Flask(__name__)\n",
    "CORS(app)"
   ]
  },
  {
   "cell_type": "code",
   "execution_count": 73,
   "metadata": {},
   "outputs": [],
   "source": [
    "def generate_query(response_data):\n",
    "    query=\"\"\n",
    "    stack_id=response_data.get('stack_id')\n",
    "    recommendation_type=response_data.get('recommendation_type')\n",
    "    package_name = response_data.get('package_name')\n",
    "    feedback_type=response_data.get('feedback_type')\n",
    "    if is_valid(stack_id) and is_valid(recommendation_type) and is_valid(package_name) and is_valid(feedback_type):\n",
    "        query=\"insert into feedback (stack_id, recommendation_type, package_name, feedback_type)\"\n",
    "        query+=\"values('{}','{}','{}',{});\".format(stack_id, recommendation_type, package_name, feedback_type)\n",
    "    return query \n",
    "\n",
    "def execute(query):\n",
    "    try:\n",
    "        if query==\"\":\n",
    "            return {\"status\":\"failure\",\"message\":\"Empty query\"}\n",
    "        else:\n",
    "            db.execute(query)\n",
    "            return {\"status\":\"success\",\"message\":\"All good\"}\n",
    "    except Exception as e:\n",
    "        return {\"status\":\"failure\", \"message\":\"{}\".format(e)}\n",
    "def processing(input_json):\n",
    "    return execute(generate_query(input_json))\n",
    "\n",
    "def is_valid(param_value):\n",
    "    return param_value is not None"
   ]
  },
  {
   "cell_type": "code",
   "execution_count": 74,
   "metadata": {},
   "outputs": [],
   "source": [
    "@app.route('/')\n",
    "def heart_beat():\n",
    "    return flask.jsonify({\"status\": \"ok\"})\n",
    "@app.route('/api/v1/submit_feedback', methods=['POST'])\n",
    "def get_path():\n",
    "    input_json = request.get_json()\n",
    "    response= processing(input_json)\n",
    "    return flask.jsonify(response)"
   ]
  },
  {
   "cell_type": "code",
   "execution_count": null,
   "metadata": {},
   "outputs": [],
   "source": [
    "app.run(port=8080)"
   ]
  },
  {
   "cell_type": "code",
   "execution_count": null,
   "metadata": {},
   "outputs": [],
   "source": []
  }
 ],
 "metadata": {
  "kernelspec": {
   "display_name": "Python 2",
   "language": "python",
   "name": "python2"
  },
  "language_info": {
   "codemirror_mode": {
    "name": "ipython",
    "version": 2
   },
   "file_extension": ".py",
   "mimetype": "text/x-python",
   "name": "python",
   "nbconvert_exporter": "python",
   "pygments_lexer": "ipython2",
   "version": "2.7.14"
  }
 },
 "nbformat": 4,
 "nbformat_minor": 2
}
