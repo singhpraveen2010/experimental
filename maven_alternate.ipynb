{
 "cells": [
  {
   "cell_type": "code",
   "execution_count": 255,
   "metadata": {
    "collapsed": true
   },
   "outputs": [],
   "source": [
    "def package_query(pname):\n",
    "    package_query = \" = g.V().has('ecosystem', 'maven').has('name', '\"\\\n",
    "                    + pname + \"').tryNext().orElseGet{graph.addVertex('ecosystem', 'maven', 'name', '\"\\\n",
    "                    + pname + \"', 'vertex_label', 'Package')};\"\n",
    "    return package_query"
   ]
  },
  {
   "cell_type": "code",
   "execution_count": 256,
   "metadata": {
    "collapsed": true
   },
   "outputs": [],
   "source": [
    "with open(\"/home/smasud/Downloads/sarah_vertx.json\", \"r\") as f:\n",
    "    data = json.load(f)"
   ]
  },
  {
   "cell_type": "code",
   "execution_count": 257,
   "metadata": {
    "collapsed": false
   },
   "outputs": [],
   "source": [
    "for package, topics in package_topics.items():\n",
    "    str_gremlin_dsl = \"\"\n",
    "    pck_query = \"\"\n",
    "    topic_query = \"\"\n",
    "    pname = package.strip()\n",
    "    pck = pattern_2_save.sub('', pname)\n",
    "    pck_query = pck + package_query(pname)\n",
    "    topic_query = \" \".join(map(lambda x: pck + \".property('topics', '\" + x + \"');\", topics))\n",
    "    pck_query += topic_query\n",
    "    str_gremlin_dsl += pck_query\n",
    "    fire_gremlin(target_gremlin_server, str_gremlin_dsl)\n",
    "#     print pck_query"
   ]
  },
  {
   "cell_type": "code",
   "execution_count": 258,
   "metadata": {
    "collapsed": false
   },
   "outputs": [],
   "source": [
    "import json\n",
    "import sys\n",
    "import requests\n",
    "from operator import itemgetter\n",
    "import re\n",
    "pattern = '[^a-zA-Z0-9]'\n",
    "pattern_2_save = re.compile(pattern)"
   ]
  },
  {
   "cell_type": "code",
   "execution_count": 259,
   "metadata": {
    "collapsed": true
   },
   "outputs": [],
   "source": [
    "target_gremlin_server = \"http://localhost:8181\""
   ]
  },
  {
   "cell_type": "code",
   "execution_count": 260,
   "metadata": {
    "collapsed": true
   },
   "outputs": [],
   "source": [
    "def fire_gremlin(gremlin_server, str_gremlin):\n",
    "    payload = {'gremlin': str_gremlin}\n",
    "    response = requests.post(gremlin_server, data=json.dumps(payload))\n",
    "    if response.status_code != 200:\n",
    "        print (\"ERROR %d: %s\") % (response.status_code, response.reason)\n",
    "    json_response = response.json()\n",
    "    print json_response"
   ]
  },
  {
   "cell_type": "code",
   "execution_count": 261,
   "metadata": {
    "collapsed": true
   },
   "outputs": [],
   "source": [
    "def get_packages_from_graph(list_topics, package):\n",
    "    str_topics = ','.join( map(lambda x: \"'\" + x + \"'\", list_topics) )\n",
    "    payload = {'gremlin': \"g.V().has('vertex_label','Package').not(has('name', '\"+ package +\"'))has('topics', within(\" + str_topics + \")).dedup().valueMap(true);\"}\n",
    "    response = requests.post(target_gremlin_server, data=json.dumps(payload))\n",
    "    json_response = response.json()\n",
    "    packages = json_response.get('result').get('data',[])\n",
    "    return packages"
   ]
  },
  {
   "cell_type": "code",
   "execution_count": 262,
   "metadata": {
    "collapsed": true
   },
   "outputs": [],
   "source": [
    "def get_topics(package):\n",
    "    payload = {'gremlin': \"g.V().has('vertex_label', 'Package').has('name', '\" + package + \"').valueMap(true);\"}\n",
    "    response = requests.post(target_gremlin_server, data=json.dumps(payload))\n",
    "    json_response = response.json()\n",
    "    pck = json_response.get('result').get('data',[])\n",
    "    return pck[0].get('topics')"
   ]
  },
  {
   "cell_type": "code",
   "execution_count": 263,
   "metadata": {
    "collapsed": true
   },
   "outputs": [],
   "source": [
    "def get_common_list(output_packages, package_name, input_topics_set):\n",
    "    input_topics_size = len(input_topics_set)\n",
    "    result = []\n",
    "    if input_topics_size==0:\n",
    "            return []\n",
    "    for package in output_packages:\n",
    "        d = {}\n",
    "        output_topics_set = set(package.get('topics'))\n",
    "        common_topics = input_topics_set.intersection(output_topics_set)\n",
    "        common_topics_size = len(common_topics)\n",
    "        if common_topics_size<2 and input_topics_size >1:\n",
    "            continue\n",
    "        d['input_package'] = package_name\n",
    "        d['output_package'] = package.get('name')[0]\n",
    "        d['input_pck_topics'] = input_topics_set\n",
    "        d['output_pck_topics'] = output_topics_set\n",
    "        d['common_topics_size'] = common_topics_size\n",
    "        result.append(d)\n",
    "    return result"
   ]
  },
  {
   "cell_type": "code",
   "execution_count": 264,
   "metadata": {
    "collapsed": false
   },
   "outputs": [],
   "source": [
    "def get_alternate_list(result, input_stack):    \n",
    "    newlist = sorted(result, key=itemgetter('common_topics_size'), reverse=True)\n",
    "    alternate_list = [output['output_package'] for output in newlist if output['output_package'] not in input_stack ]\n",
    "    return alternate_list"
   ]
  },
  {
   "cell_type": "code",
   "execution_count": 265,
   "metadata": {
    "collapsed": false
   },
   "outputs": [],
   "source": [
    "def get_alternate_package(input_stack):\n",
    "    for package_name in input_stack:\n",
    "        input_pck_topics = get_topics(package_name)\n",
    "        output_packages = get_packages_from_graph(input_pck_topics, package_name)\n",
    "        input_topics_set = set(input_pck_topics)\n",
    "        result = get_common_list(output_packages, package_name, input_topics_set)\n",
    "        alternate_list = get_alternate_list(result, input_stack)\n",
    "        print(alternate_list)"
   ]
  },
  {
   "cell_type": "code",
   "execution_count": 266,
   "metadata": {
    "collapsed": false
   },
   "outputs": [
    {
     "name": "stdout",
     "output_type": "stream",
     "text": [
      "[]\n"
     ]
    }
   ],
   "source": [
    "input_pck_name = ['io.vertx:vertx-mongo-embedded-db']\n",
    "output = get_alternate_package(input_pck_name)\n",
    "output"
   ]
  },
  {
   "cell_type": "code",
   "execution_count": 267,
   "metadata": {
    "collapsed": false
   },
   "outputs": [
    {
     "name": "stdout",
     "output_type": "stream",
     "text": [
      "[u'io.netty:netty-all']\n"
     ]
    }
   ],
   "source": [
    "input_stack = ['io.netty:netty-buffer']\n",
    "get_alternate_package(input_stack)"
   ]
  },
  {
   "cell_type": "code",
   "execution_count": 268,
   "metadata": {
    "collapsed": false
   },
   "outputs": [
    {
     "name": "stdout",
     "output_type": "stream",
     "text": [
      "[u'io.knotx:knotx-knot-fragment-splitter', u'io.knotx:knotx-mocks', u'io.knotx:knotx-example-gateway', u'io.knotx:knotx-knot-action', u'io.vertx:vertx-mqtt-server::sources', u'io.vertx:vertx-mqtt-server:zip:docs', u'io.vertx:vertx-circuit-breaker:zip:docs', u'io.vertx:vertx-hazelcast', u'io.vertx:vertx-circuit-breaker::sources', u'io.engagingspaces:vertx-dataloader', u'io.vertx.blueprint:account-microservice', u'io.vertx:vertx-core::sources']\n"
     ]
    }
   ],
   "source": [
    "input_stack = ['io.knotx:knotx-core']\n",
    "get_alternate_package(input_stack)"
   ]
  },
  {
   "cell_type": "code",
   "execution_count": 271,
   "metadata": {
    "collapsed": false
   },
   "outputs": [
    {
     "name": "stdout",
     "output_type": "stream",
     "text": [
      "[u'p4', u'p3']\n",
      "[u'p4']\n"
     ]
    }
   ],
   "source": [
    "input_stack = ['p1', 'p2']\n",
    "get_alternate_package(input_stack)"
   ]
  },
  {
   "cell_type": "code",
   "execution_count": 270,
   "metadata": {
    "collapsed": false
   },
   "outputs": [],
   "source": [
    "# \"\"\"\n",
    "# p1: t1, t2, t3\n",
    "\n",
    "# p2: t2\n",
    "\n",
    "# p3: t1, t3\n",
    "\n",
    "# p4: t2,t3\n",
    "# \"\"\"\n",
    "\n",
    "# inputstack= [p1, p2]"
   ]
  }
 ],
 "metadata": {
  "kernelspec": {
   "display_name": "Python 2",
   "language": "python",
   "name": "python2"
  },
  "language_info": {
   "codemirror_mode": {
    "name": "ipython",
    "version": 2
   },
   "file_extension": ".py",
   "mimetype": "text/x-python",
   "name": "python",
   "nbconvert_exporter": "python",
   "pygments_lexer": "ipython2",
   "version": "2.7.13"
  }
 },
 "nbformat": 4,
 "nbformat_minor": 0
}
